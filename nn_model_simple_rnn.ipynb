{
 "cells": [
  {
   "cell_type": "code",
   "execution_count": 275,
   "metadata": {},
   "outputs": [],
   "source": [
    "import pickle\n",
    "import pandas as pd\n",
    "import numpy as np\n",
    "from sklearn.model_selection import train_test_split\n",
    "from sklearn.metrics import accuracy_score\n",
    "\n",
    "import scipy.stats as sts\n",
    "import bpe\n",
    "\n",
    "import keras as K\n",
    "import keras.layers as L\n",
    "from keras.utils import to_categorical\n",
    "from keras.preprocessing.sequence import pad_sequences\n",
    "\n",
    "from keras.callbacks import ModelCheckpoint"
   ]
  },
  {
   "cell_type": "code",
   "execution_count": 68,
   "metadata": {},
   "outputs": [],
   "source": [
    "features = pickle.load(open('./processed/rnn_features.pkl', 'rb'))\n",
    "labels = pd.read_csv('./processed/labels.csv')\n",
    "\n",
    "bpe_encoder = pickle.load(open('./processed/pbe_encoder.pkl', 'rb'))"
   ]
  },
  {
   "cell_type": "code",
   "execution_count": 119,
   "metadata": {},
   "outputs": [
    {
     "data": {
      "text/plain": [
       "8192"
      ]
     },
     "execution_count": 119,
     "metadata": {},
     "output_type": "execute_result"
    }
   ],
   "source": [
    "bpe_encoder.vocab_size"
   ]
  },
  {
   "cell_type": "code",
   "execution_count": 60,
   "metadata": {},
   "outputs": [
    {
     "data": {
      "text/plain": [
       "[[0, 1]]"
      ]
     },
     "execution_count": 60,
     "metadata": {},
     "output_type": "execute_result"
    }
   ],
   "source": [
    "list(bpe_encoder.transform([bpe_encoder.PAD + ' ' + bpe_encoder.UNK]))"
   ]
  },
  {
   "cell_type": "code",
   "execution_count": 70,
   "metadata": {},
   "outputs": [
    {
     "data": {
      "text/plain": [
       "((159571, 7), 82)"
      ]
     },
     "execution_count": 70,
     "metadata": {},
     "output_type": "execute_result"
    }
   ],
   "source": [
    "labels.shape, len(features[0])"
   ]
  },
  {
   "cell_type": "code",
   "execution_count": 93,
   "metadata": {},
   "outputs": [],
   "source": [
    "x_train, x_test, y_train, y_test = train_test_split(features, labels.values, test_size=0.2)"
   ]
  },
  {
   "cell_type": "code",
   "execution_count": 141,
   "metadata": {},
   "outputs": [],
   "source": [
    "def build_model():\n",
    "    l_input = L.Input(shape=(None, ))\n",
    "    l_in2 = L.Embedding(input_dim=bpe_encoder.vocab_size, output_dim=10)(l_input)\n",
    "    \n",
    "    # (batch, len, 10) -> (batch, len, 128)\n",
    "    l_in3 = L.TimeDistributed(L.Dense(units=128))(l_in2)\n",
    "    \n",
    "    # (batch, len, 128) -> (batch, len, 256)\n",
    "    l_rnn1 = L.Bidirectional(L.LSTM(units=128, return_sequences=True))(l_in3)\n",
    "    # (batch, len, 256) -> (batch, len, 256)\n",
    "    l_rnn2 = L.Bidirectional(L.LSTM(units=128, return_sequences=True))(l_rnn1)\n",
    "    \n",
    "    # (batch, len, 256) -> (batch, len, 128)\n",
    "    l_dense1 = L.TimeDistributed(L.Dense(units=128))(l_rnn2)\n",
    "    # (batch, len, 128) -> (batch, 128)\n",
    "    l_comb = L.GlobalMaxPool1D()(l_dense1)\n",
    "    # (batch, 128) -> (batch, 128)\n",
    "    l_dence2 = L.Dense(units=128, activation='relu')(l_comb)\n",
    "    # (batch, 128) -> (batch, 14)\n",
    "    l_final = L.Dense(units=2 * 7)(l_dence2)\n",
    "    # (batch, 14) -> (batch, 7, 2)\n",
    "    l_final_reshape = L.Reshape(target_shape=(7, 2))(l_final)\n",
    "    # (batch, 7, 2) -> (batch, 7, 2)\n",
    "    l_prob = L.Softmax(axis=2)(l_final_reshape)\n",
    "    \n",
    "    model = K.Model(input=l_input, output=l_prob)\n",
    "    model.compile(optimizer='adam', loss='categorical_crossentropy',\n",
    "    )\n",
    "    return model"
   ]
  },
  {
   "cell_type": "code",
   "execution_count": 142,
   "metadata": {},
   "outputs": [
    {
     "name": "stderr",
     "output_type": "stream",
     "text": [
      "/home/michael/.virtualenv/DS3.6/lib/python3.6/site-packages/ipykernel_launcher.py:26: UserWarning: Update your `Model` call to the Keras 2 API: `Model(inputs=Tensor(\"in..., outputs=Tensor(\"so...)`\n"
     ]
    }
   ],
   "source": [
    "model = build_model()"
   ]
  },
  {
   "cell_type": "code",
   "execution_count": 143,
   "metadata": {},
   "outputs": [
    {
     "name": "stdout",
     "output_type": "stream",
     "text": [
      "_________________________________________________________________\n",
      "Layer (type)                 Output Shape              Param #   \n",
      "=================================================================\n",
      "input_20 (InputLayer)        (None, None)              0         \n",
      "_________________________________________________________________\n",
      "embedding_20 (Embedding)     (None, None, 10)          81920     \n",
      "_________________________________________________________________\n",
      "time_distributed_32 (TimeDis (None, None, 128)         1408      \n",
      "_________________________________________________________________\n",
      "bidirectional_33 (Bidirectio (None, None, 256)         263168    \n",
      "_________________________________________________________________\n",
      "bidirectional_34 (Bidirectio (None, None, 256)         394240    \n",
      "_________________________________________________________________\n",
      "time_distributed_33 (TimeDis (None, None, 128)         32896     \n",
      "_________________________________________________________________\n",
      "global_max_pooling1d_15 (Glo (None, 128)               0         \n",
      "_________________________________________________________________\n",
      "dense_62 (Dense)             (None, 128)               16512     \n",
      "_________________________________________________________________\n",
      "dense_63 (Dense)             (None, 14)                1806      \n",
      "_________________________________________________________________\n",
      "reshape_14 (Reshape)         (None, 7, 2)              0         \n",
      "_________________________________________________________________\n",
      "softmax_14 (Softmax)         (None, 7, 2)              0         \n",
      "=================================================================\n",
      "Total params: 791,950\n",
      "Trainable params: 791,950\n",
      "Non-trainable params: 0\n",
      "_________________________________________________________________\n"
     ]
    }
   ],
   "source": [
    "model.summary()"
   ]
  },
  {
   "cell_type": "code",
   "execution_count": 215,
   "metadata": {},
   "outputs": [
    {
     "name": "stdout",
     "output_type": "stream",
     "text": [
      "(['c'], ['a', 'a'], ['b', 'b', 'b']) (3, 1, 2)\n"
     ]
    }
   ],
   "source": [
    "X = [['a', 'a'], ['b', 'b', 'b'], ['c']]\n",
    "Y = [1, 2, 3]\n",
    "\n",
    "buf = sorted([(len(x), x, y) for (x, y) in zip(X, Y) ], key=lambda x: x[0])\n",
    "X, Y = zip(*[(x, y) for _, x, y in buf ])\n",
    "\n",
    "print(X, Y)"
   ]
  },
  {
   "cell_type": "code",
   "execution_count": 245,
   "metadata": {},
   "outputs": [
    {
     "data": {
      "text/plain": [
       "array([[0, 0],\n",
       "       [1, 0]])"
      ]
     },
     "execution_count": 245,
     "metadata": {},
     "output_type": "execute_result"
    }
   ],
   "source": [
    "np.random.binomial(1, 0.5, size=(2, 2))"
   ]
  },
  {
   "cell_type": "code",
   "execution_count": 277,
   "metadata": {},
   "outputs": [],
   "source": [
    "def generator_batch1(X, Y, batch_size=6, smooth=0.2, unk_prob=0.07):\n",
    "    UNK_num = list(bpe_encoder.transform([bpe_encoder.UNK]))[0][0]\n",
    "    PAD_num = list(bpe_encoder.transform([bpe_encoder.PAD]))[0][0]\n",
    "    \n",
    "    print(f'unk: {UNK_num}, pad: {PAD_num}')\n",
    "    \n",
    "    buf = sorted([(len(x), x, y) for (x, y) in zip(X, Y) ], key=lambda x: x[0])\n",
    "    X, Y = zip(*[(x, y) for _, x, y in buf ])\n",
    "    \n",
    "    X = np.array(X)\n",
    "    Y = np.array(Y)\n",
    "    \n",
    "    while True:\n",
    "        indexes = np.arange(len(X) - batch_size)\n",
    "        np.random.shuffle(indexes)\n",
    "        \n",
    "        for ind in indexes:\n",
    "            y = to_categorical(np.expand_dims(Y[ind : ind + batch_size, :], axis=2), 2)\n",
    "            y[y == 1] = 1 - smooth\n",
    "            y[y == 0] = smooth\n",
    "            x = pad_sequences(X[ind : ind + batch_size], padding='post', value=PAD_num)\n",
    "            len_min = len(X[ind])\n",
    "            x_unk = np.random.binomial(1, unk_prob, (batch_size, len_min))\n",
    "            x[:, :len_min][x_unk == 1] = UNK_num\n",
    "            yield (x, y)"
   ]
  },
  {
   "cell_type": "code",
   "execution_count": 278,
   "metadata": {},
   "outputs": [],
   "source": [
    "checkpointer = ModelCheckpoint(\n",
    "    filepath=r\"./models/model3_{epoch:02d}.hdf5\", \n",
    "    save_best_only=False,\n",
    "    save_weights_only=False,\n",
    "    period=2\n",
    ")"
   ]
  },
  {
   "cell_type": "code",
   "execution_count": null,
   "metadata": {},
   "outputs": [
    {
     "name": "stdout",
     "output_type": "stream",
     "text": [
      "Epoch 1/30\n",
      "unk: 1, pad: 0\n",
      "500/500 [==============================] - 97s 194ms/step - loss: 0.5159\n",
      "Epoch 2/30\n",
      "500/500 [==============================] - 102s 203ms/step - loss: 0.5157\n",
      "Epoch 3/30\n",
      "500/500 [==============================] - 97s 194ms/step - loss: 0.5168\n",
      "Epoch 4/30\n",
      "500/500 [==============================] - 112s 224ms/step - loss: 0.5143\n",
      "Epoch 5/30\n",
      "500/500 [==============================] - 105s 209ms/step - loss: 0.5158\n",
      "Epoch 6/30\n",
      "500/500 [==============================] - 99s 198ms/step - loss: 0.5140\n",
      "Epoch 7/30\n",
      "500/500 [==============================] - 93s 186ms/step - loss: 0.5138\n",
      "Epoch 8/30\n",
      "500/500 [==============================] - 110s 221ms/step - loss: 0.5147\n",
      "Epoch 9/30\n",
      "500/500 [==============================] - 97s 194ms/step - loss: 0.5145\n",
      "Epoch 10/30\n",
      "500/500 [==============================] - 116s 232ms/step - loss: 0.5150\n",
      "Epoch 11/30\n",
      "500/500 [==============================] - 111s 223ms/step - loss: 0.5153\n",
      "Epoch 12/30\n",
      "500/500 [==============================] - 111s 222ms/step - loss: 0.5145\n",
      "Epoch 13/30\n",
      "500/500 [==============================] - 102s 204ms/step - loss: 0.5153\n",
      "Epoch 14/30\n",
      "500/500 [==============================] - 118s 236ms/step - loss: 0.5138\n",
      "Epoch 15/30\n",
      "500/500 [==============================] - 104s 208ms/step - loss: 0.5136\n",
      "Epoch 16/30\n",
      "500/500 [==============================] - 102s 204ms/step - loss: 0.5133\n",
      "Epoch 17/30\n",
      "500/500 [==============================] - 114s 227ms/step - loss: 0.5122\n",
      "Epoch 18/30\n",
      "500/500 [==============================] - 107s 215ms/step - loss: 0.5137\n",
      "Epoch 19/30\n",
      "500/500 [==============================] - 95s 189ms/step - loss: 0.5144\n",
      "Epoch 20/30\n",
      "500/500 [==============================] - 102s 205ms/step - loss: 0.5148\n",
      "Epoch 21/30\n",
      "500/500 [==============================] - 101s 203ms/step - loss: 0.5152\n",
      "Epoch 22/30\n",
      "500/500 [==============================] - 109s 217ms/step - loss: 0.5137\n",
      "Epoch 23/30\n",
      "437/500 [=========================>....] - ETA: 13s - loss: 0.5140"
     ]
    }
   ],
   "source": [
    "model.fit_generator(\n",
    "    generator=generator_batch1(x_train, y_train),\n",
    "    steps_per_epoch=500,\n",
    "    epochs=30,\n",
    "    callbacks=[checkpointer]\n",
    ")"
   ]
  },
  {
   "cell_type": "code",
   "execution_count": 271,
   "metadata": {},
   "outputs": [
    {
     "name": "stdout",
     "output_type": "stream",
     "text": [
      "CPU times: user 8.13 s, sys: 745 ms, total: 8.87 s\n",
      "Wall time: 3.06 s\n"
     ]
    }
   ],
   "source": [
    "%%time\n",
    "\n",
    "predictions = np.array(list(map(\n",
    "    lambda x: np.argmax(model2.predict(np.array([x]))[0], axis=1),\n",
    "    x_test[:100],\n",
    ")))"
   ]
  },
  {
   "cell_type": "code",
   "execution_count": 272,
   "metadata": {},
   "outputs": [
    {
     "name": "stdout",
     "output_type": "stream",
     "text": [
      "1.0\n",
      "0.99\n",
      "0.99\n",
      "1.0\n",
      "0.97\n",
      "1.0\n",
      "0.99\n"
     ]
    }
   ],
   "source": [
    "for i in range(7):\n",
    "    print(accuracy_score(predictions[:, i], y_test[:100, i]))"
   ]
  },
  {
   "cell_type": "code",
   "execution_count": 195,
   "metadata": {},
   "outputs": [],
   "source": [
    "a = type('', (), {})()"
   ]
  },
  {
   "cell_type": "code",
   "execution_count": 200,
   "metadata": {},
   "outputs": [
    {
     "ename": "AttributeError",
     "evalue": "'' object has no attribute 't'",
     "output_type": "error",
     "traceback": [
      "\u001b[0;31m---------------------------------------------------------------------------\u001b[0m",
      "\u001b[0;31mAttributeError\u001b[0m                            Traceback (most recent call last)",
      "\u001b[0;32m<ipython-input-200-4324054e2c9f>\u001b[0m in \u001b[0;36m<module>\u001b[0;34m\u001b[0m\n\u001b[1;32m      1\u001b[0m \u001b[0ma\u001b[0m\u001b[0;34m.\u001b[0m\u001b[0my\u001b[0m \u001b[0;34m=\u001b[0m \u001b[0;36m1\u001b[0m\u001b[0;34m\u001b[0m\u001b[0;34m\u001b[0m\u001b[0m\n\u001b[1;32m      2\u001b[0m \u001b[0;34m\u001b[0m\u001b[0m\n\u001b[0;32m----> 3\u001b[0;31m \u001b[0mprint\u001b[0m\u001b[0;34m(\u001b[0m\u001b[0mgetattr\u001b[0m\u001b[0;34m(\u001b[0m\u001b[0ma\u001b[0m\u001b[0;34m,\u001b[0m \u001b[0;34m'y'\u001b[0m\u001b[0;34m)\u001b[0m\u001b[0;34m,\u001b[0m \u001b[0mgetattr\u001b[0m\u001b[0;34m(\u001b[0m\u001b[0ma\u001b[0m\u001b[0;34m,\u001b[0m \u001b[0;34m't'\u001b[0m\u001b[0;34m)\u001b[0m\u001b[0;34m)\u001b[0m\u001b[0;34m\u001b[0m\u001b[0;34m\u001b[0m\u001b[0m\n\u001b[0m",
      "\u001b[0;31mAttributeError\u001b[0m: '' object has no attribute 't'"
     ]
    }
   ],
   "source": [
    "a.y = 1\n",
    "\n",
    "print(getattr(a, 'y'), getattr(a, 't'))"
   ]
  },
  {
   "cell_type": "code",
   "execution_count": 270,
   "metadata": {},
   "outputs": [],
   "source": [
    "from keras.models import load_model\n",
    "\n",
    "model2 = load_model('./models/model_7_test.hdf5')"
   ]
  }
 ],
 "metadata": {
  "kernelspec": {
   "display_name": "Python 3",
   "language": "python",
   "name": "python3"
  },
  "language_info": {
   "codemirror_mode": {
    "name": "ipython",
    "version": 3
   },
   "file_extension": ".py",
   "mimetype": "text/x-python",
   "name": "python",
   "nbconvert_exporter": "python",
   "pygments_lexer": "ipython3",
   "version": "3.6.7"
  }
 },
 "nbformat": 4,
 "nbformat_minor": 2
}
